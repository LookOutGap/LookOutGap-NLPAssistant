
{
 "cells": [
  {
   "cell_type": "markdown",
   "metadata": {},
   "source": [
    "## Tutorial Notebook\n",
    "Welcome! This Jupyter notebook is designed to show you how our\n",
    "Natural Language Processing package works using a sample dataset\n",
    "from the nltk package."
   ]
  },
  {
   "cell_type": "code",
   "execution_count": 1,
   "metadata": {},
   "outputs": [],
   "source": [
    "# Imports\n",
    "from nltk.corpus import reuters\n",
    "import pandas as pd\n",
    "\n",
    "from nlprov.preprocessing import preprocess_text\n",
    "from nlprov.vectorize import vectorize_text, vectorize_new_text\n",
    "from nlprov.similarity_calc import similarity_calculation"
   ]
  },
  {
   "cell_type": "markdown",
   "metadata": {},
   "source": [
    "The code below simply extracts the first ten Reuters articles from the\n",
    "Reuters Corpus in NLTK."
   ]
  },
  {
   "cell_type": "code",
   "execution_count": 2,
   "metadata": {},
   "outputs": [
    {
     "name": "stdout",
     "output_type": "stream",
     "text": [
      "     file_ids                                            article\n",
      "0  test/14826  ASIAN EXPORTERS FEAR DAMAGE FROM U.S.-JAPAN RI...\n",
      "1  test/14828  CHINA DAILY SAYS VERMIN EAT 7-12 PCT GRAIN STO...\n",
      "2  test/14829  JAPAN TO REVISE LONG-TERM ENERGY DEMAND DOWNWA...\n",
      "3  test/14832  THAI TRADE DEFICIT WIDENS IN FIRST QUARTER\\n  ...\n",
      "4  test/14833  INDONESIA SEES CPO PRICE RISING SHARPLY\\n  Ind...\n",
      "5  test/14839  AUSTRALIAN FOREIGN SHIP BAN ENDS BUT NSW PORTS...\n",
      "6  test/14840  INDONESIAN COMMODITY EXCHANGE MAY EXPAND\\n  Th...\n",
      "7  test/14841  SRI LANKA GETS USDA APPROVAL FOR WHEAT PRICE\\n...\n",
      "8  test/14842  WESTERN MINING TO OPEN NEW GOLD MINE IN AUSTRA...\n",
      "9  test/14843  SUMITOMO BANK AIMS AT QUICK RECOVERY FROM MERG...\n"
     ]