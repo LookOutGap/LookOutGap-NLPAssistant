
{
 "cells": [
  {
   "cell_type": "markdown",
   "metadata": {},
   "source": [
    "## Tutorial Notebook\n",
    "Welcome! This Jupyter notebook is designed to show you how our\n",
    "Natural Language Processing package works using a sample dataset\n",
    "from the nltk package."
   ]
  },
  {
   "cell_type": "code",
   "execution_count": 1,
   "metadata": {},
   "outputs": [],
   "source": [
    "# Imports\n",
    "from nltk.corpus import reuters\n",
    "import pandas as pd\n",
    "\n",
    "from nlprov.preprocessing import preprocess_text\n",
    "from nlprov.vectorize import vectorize_text, vectorize_new_text\n",
    "from nlprov.similarity_calc import similarity_calculation"
   ]
  },
  {
   "cell_type": "markdown",
   "metadata": {},
   "source": [
    "The code below simply extracts the first ten Reuters articles from the\n",
    "Reuters Corpus in NLTK."
   ]
  },
  {
   "cell_type": "code",
   "execution_count": 2,
   "metadata": {},
   "outputs": [
    {
     "name": "stdout",
     "output_type": "stream",
     "text": [
      "     file_ids                                            article\n",
      "0  test/14826  ASIAN EXPORTERS FEAR DAMAGE FROM U.S.-JAPAN RI...\n",
      "1  test/14828  CHINA DAILY SAYS VERMIN EAT 7-12 PCT GRAIN STO...\n",
      "2  test/14829  JAPAN TO REVISE LONG-TERM ENERGY DEMAND DOWNWA...\n",
      "3  test/14832  THAI TRADE DEFICIT WIDENS IN FIRST QUARTER\\n  ...\n",
      "4  test/14833  INDONESIA SEES CPO PRICE RISING SHARPLY\\n  Ind...\n",
      "5  test/14839  AUSTRALIAN FOREIGN SHIP BAN ENDS BUT NSW PORTS...\n",
      "6  test/14840  INDONESIAN COMMODITY EXCHANGE MAY EXPAND\\n  Th...\n",
      "7  test/14841  SRI LANKA GETS USDA APPROVAL FOR WHEAT PRICE\\n...\n",
      "8  test/14842  WESTERN MINING TO OPEN NEW GOLD MINE IN AUSTRA...\n",
      "9  test/14843  SUMITOMO BANK AIMS AT QUICK RECOVERY FROM MERG...\n"
     ]
    }
   ],
   "source": [
    "# Get 10 reuters articles\n",
    "reuters_df = pd.DataFrame(reuters.fileids()[0:10], columns=['file_ids'])\n",
    "reuters_df['article'] = [reuters.raw(a_id) for a_id in reuters_df.file_ids]\n",
    "print(reuters_df)"
   ]
  },
  {
   "cell_type": "markdown",
   "metadata": {},
   "source": [
    "The `preprocess_text` function standardizes the text in the aritcle\n",
    "(e.g. removing punctuation, lower casing words) so it's ready for\n",
    "vectorization.\n",
    "You can see the effects on the Reuters article below."
   ]
  },
  {
   "cell_type": "code",
   "execution_count": 3,
   "metadata": {},
   "outputs": [
    {
     "name": "stdout",
     "output_type": "stream",
     "text": [
      "Before: CHINA DAILY SAYS VERMIN EAT 7-12 PCT GRAIN STOCKS\n",
      "  A survey of 19 provinces and seven cities\n",
      "  showed vermin consume between seven and 12 pct of China's grain\n",
      "  stocks, the China Daily said.\n",
      "      It also said that each year 1.575 mln tonnes, or 25 pct, of\n",
      "  China's fruit output are left to rot, and 2.1 mln tonnes, or up\n",
      "  to 30 pct, of its vegetables. The paper blamed the waste on\n",
      "  inadequate storage and bad preservation methods.\n",
      "      It said the government had launched a national programme to\n",
      "  reduce waste, calling for improved technology in storage and\n",
      "  preservation, and greater production of additives. The paper\n",
      "  gave no further details.\n",
      "  \n",
      "\n",
      "\n",
      "After: china daily says vermin eat 7 12 pct grain stocks a survey of 19 provinces and seven cities showed vermin consume between seven and 12 pct of china s grain stocks the china daily said it also said that each year 1 575 mln tonnes or 25 pct of china s fruit output are left to rot and 2 1 mln tonnes or up to 30 pct of its vegetables the paper blamed the waste on inadequate storage and bad preservation methods it said the government had launched a national programme to reduce waste calling for improved technology in storage and preservation and greater production of additives the paper gave no further details\n"
     ]
    }
   ],
   "source": [
    "preprocessed_text = preprocess_text(reuters_df.article)\n",
    "print(\"Before:\", reuters_df.article[1])\n",
    "print(\"After:\", preprocessed_text[1])"
   ]